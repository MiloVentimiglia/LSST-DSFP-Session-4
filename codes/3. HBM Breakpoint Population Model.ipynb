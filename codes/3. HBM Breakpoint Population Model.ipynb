{
 "cells": [
  {
   "cell_type": "markdown",
   "metadata": {},
   "source": [
    "<h1 align=\"center\">Problem 3 - Practical HBM</h1>\n",
    "<h2 align=\"center\">Orbital Period Breakpoint Hiarchical Bayesian Model for Eclipsing Binaries with PyJAGS</h2>\n",
    "<h3 align=\"center\">Simulating a joint eccentricity and Period distribution of Eclpising Binaries from the Kepler Mission</h3> \n",
    "<h4 align=\"center\">LSSTC DSFP Session 4, September 21st, 2017</h4>\n",
    "<h5 align=\"center\">Author: Megan I. Shabram, PhD, \n",
    "NASA Postdoctoral Program Fellow,  mshabram@gmail.com</h5>"
   ]
  },
  {
   "cell_type": "code",
   "execution_count": null,
   "metadata": {
    "collapsed": true
   },
   "outputs": [],
   "source": []
  }
 ],
 "metadata": {
  "kernelspec": {
   "display_name": "Python 2",
   "language": "python",
   "name": "python2"
  },
  "language_info": {
   "codemirror_mode": {
    "name": "ipython",
    "version": 2
   },
   "file_extension": ".py",
   "mimetype": "text/x-python",
   "name": "python",
   "nbconvert_exporter": "python",
   "pygments_lexer": "ipython2",
   "version": "2.7.13"
  }
 },
 "nbformat": 4,
 "nbformat_minor": 0
}
